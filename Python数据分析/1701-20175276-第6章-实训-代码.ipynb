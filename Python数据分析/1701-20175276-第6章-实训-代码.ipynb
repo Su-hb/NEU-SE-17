{
 "cells": [
  {
   "cell_type": "markdown",
   "metadata": {},
   "source": [
    "## 使用sklearn处理wine和wine_quality数据集"
   ]
  },
  {
   "cell_type": "markdown",
   "metadata": {},
   "source": [
    "1.用pandas库读取wine数据集和wine_quality数据集"
   ]
  },
  {
   "cell_type": "code",
   "execution_count": 1,
   "metadata": {},
   "outputs": [],
   "source": [
    "#导入模块\n",
    "import pandas as pd\n",
    "#pd.*?\n",
    "from sklearn.datasets import load_wine"
   ]
  },
  {
   "cell_type": "code",
   "execution_count": 2,
   "metadata": {},
   "outputs": [],
   "source": [
    "#导入数据\n",
    "wine_data = load_wine()#wine数据集\n",
    "quality_data = pd.read_csv('six/winequality-red.csv')#wine_quality数据集"
   ]
  },
  {
   "cell_type": "markdown",
   "metadata": {},
   "source": [
    "2.将wine数据集和wine_quality数据集的数据和标签拆分开"
   ]
  },
  {
   "cell_type": "code",
   "execution_count": 3,
   "metadata": {},
   "outputs": [],
   "source": [
    "#wine_data数据集的拆分\n",
    "wine_X = wine_data.data\n",
    "wine_Y = wine_data.target\n",
    "#wine_quality数据集的拆分\n",
    "quality_Y = quality_data['quality']\n",
    "quality_X = quality_data.drop('quality',axis=1)"
   ]
  },
  {
   "cell_type": "markdown",
   "metadata": {},
   "source": [
    "3.将wine_quality数据集划分为训练集和测试集"
   ]
  },
  {
   "cell_type": "code",
   "execution_count": 5,
   "metadata": {},
   "outputs": [],
   "source": [
    "from sklearn.model_selection import train_test_split\n",
    "quality_Xtrain,quality_Xtest,quality_Ytrain,quality_Ytest = train_test_split(quality_X,quality_Y,test_size = 0.2,random_state = 123\\\n",
    "                                                                             ,stratify = quality_Y)\n",
    "#测试集大小为0.2 随机种子编号为123 进行分层抽样\n",
    "#为了后续操作将wine化为训练集和测试集\n",
    "wine_Xtrain,wine_Xtest,wine_Ytrain,wine_Ytest = train_test_split(wine_X,wine_Y,test_size = 0.2,random_state = 123,stratify  = wine_Y)"
   ]
  },
  {
   "cell_type": "markdown",
   "metadata": {},
   "source": [
    "4.标准化wine数据集和wine_quality数据集"
   ]
  },
  {
   "cell_type": "code",
   "execution_count": 6,
   "metadata": {},
   "outputs": [],
   "source": [
    "#导入标准化函数模块\n",
    "from sklearn import preprocessing   "
   ]
  },
  {
   "cell_type": "code",
   "execution_count": 7,
   "metadata": {},
   "outputs": [],
   "source": [
    "#标准差标准化wine数据集\n",
    "stdScaler = preprocessing.StandardScaler()#生成规则\n",
    "wine_std_train_Scaler = stdScaler.fit_transform(wine_Xtrain)#将规则应用于训练集\n",
    "wine_std_test_Scaler = stdScaler.transform(wine_Xtest)#将规则应用于测试集"
   ]
  },
  {
   "cell_type": "code",
   "execution_count": 8,
   "metadata": {},
   "outputs": [],
   "source": [
    "#离差标准化wine数据集\n",
    "MMScaler = preprocessing.MinMaxScaler()#生成规则\n",
    "wine_MM_train_Scaler = MMScaler.fit_transform(wine_Xtrain)#将规则应用于训练集\n",
    "wine_MM_test_Scaler = MMScaler.transform(wine_Xtest)#将规则应用于测试集\n"
   ]
  },
  {
   "cell_type": "code",
   "execution_count": 9,
   "metadata": {},
   "outputs": [],
   "source": [
    "#标准差标准化wine_quality数据集\n",
    "q_stdScaler = preprocessing.StandardScaler()#生成规则\n",
    "q_std_train_Scaler = q_stdScaler.fit_transform(quality_Xtrain)#将规则应用于训练集\n",
    "q_std_test_Scaler = q_stdScaler.transform(quality_Xtest)#将规则应用于测试集"
   ]
  },
  {
   "cell_type": "code",
   "execution_count": 10,
   "metadata": {},
   "outputs": [],
   "source": [
    "#离差标准化wine_quality数据集\n",
    "q_MMScaler = preprocessing.MinMaxScaler()#生成规则\n",
    "q_MM_train_Scaler = q_MMScaler.fit_transform(quality_Xtrain)#将规则应用于训练集\n",
    "q_MM_test_Scaler = q_MMScaler.transform(quality_Xtest)#将规则应用于测试集"
   ]
  },
  {
   "cell_type": "markdown",
   "metadata": {},
   "source": [
    "5.对wine数据集和wine_quality数据集进行PCA降维"
   ]
  },
  {
   "cell_type": "code",
   "execution_count": 11,
   "metadata": {},
   "outputs": [],
   "source": [
    "#导入模块\n",
    "from sklearn.decomposition import PCA\n",
    "#使用MLE算法\n",
    "pca = PCA(n_components=3,random_state=231)"
   ]
  },
  {
   "cell_type": "code",
   "execution_count": 36,
   "metadata": {},
   "outputs": [],
   "source": [
    "#训练wine数据集（标准差标准化）\n",
    "wine_std_train_Pca = pca.fit_transform(wine_std_train_Scaler)\n",
    "wine_std_test_Pca = pca.transform(wine_std_test_Scaler)\n",
    "#训练wine数据集（离差标准化）\n",
    "wine_MM_train_Pca = pca.fit_transform(wine_MM_train_Scaler)\n",
    "wine_MM_test_Pca = pca.transform(wine_MM_test_Scaler)\n",
    "#训练wine_quality（标准差标准化）\n",
    "q_std_train_Pca = pca.fit_transform(q_std_train_Scaler)\n",
    "q_std_test_Pca = pca.transform(q_std_test_Scaler)\n",
    "#训练wine_quality(离差标准化)\n",
    "q_MM_train_Pca = pca.fit_transform(q_MM_train_Scaler)\n",
    "q_MM_test_Pca = pca.transform(q_MM_test_Scaler)"
   ]
  },
  {
   "cell_type": "markdown",
   "metadata": {},
   "source": [
    "# 构建基于wine数据集的K-Means聚类模型"
   ]
  },
  {
   "cell_type": "markdown",
   "metadata": {},
   "source": [
    "1.构建聚类数目为3的K-Means模型"
   ]
  },
  {
   "cell_type": "code",
   "execution_count": 37,
   "metadata": {},
   "outputs": [],
   "source": [
    "from sklearn.cluster import KMeans#导入模块\n",
    "kmeans = KMeans(n_clusters = 3,random_state=231).fit(wine_std_train_Pca,wine_Ytrain)#将随机种子设置为231时，答案正确，但是score不正确"
   ]
  },
  {
   "cell_type": "code",
   "execution_count": 47,
   "metadata": {},
   "outputs": [
    {
     "data": {
      "image/png": "[encoded data removed]",
      "text/plain": [
       "<Figure size 432x288 with 1 Axes>"
      ]
     },
     "metadata": {},
     "output_type": "display_data"
    }
   ],
   "source": [
    "#聚类散点图\n",
    "import matplotlib.pyplot as plt\n",
    "\n",
    "plt.scatter(x = wine_std_train_Pca[:,0], y = wine_std_train_Pca[:,1], c = kmeans.labels_, s=50, cmap='rainbow')\n",
    "\n",
    "plt.show()"
   ]
  },
  {
   "cell_type": "markdown",
   "metadata": {},
   "source": [
    "2.对比真实标签和聚类标签求取FMI"
   ]
  },
  {
   "cell_type": "code",
   "execution_count": 18,
   "metadata": {},
   "outputs": [
    {
     "data": {
      "text/plain": [
       "array([1, 0, 1, 2, 2, 0, 1, 1, 0, 0, 1, 1, 0, 0, 2, 1, 2, 1, 1, 2, 0, 2,\n",
       "       1, 2, 1, 0, 2, 1, 0, 0, 0, 2, 0, 1, 0, 2])"
      ]
     },
     "execution_count": 18,
     "metadata": {},
     "output_type": "execute_result"
    }
   ],
   "source": [
    "kmeansLabel = kmeans.predict(wine_std_test_Pca)\n",
    "kmeansLabel#聚类标签"
   ]
  },
  {
   "cell_type": "code",
   "execution_count": 19,
   "metadata": {},
   "outputs": [
    {
     "data": {
      "text/plain": [
       "array([1, 0, 1, 2, 2, 0, 1, 1, 1, 0, 1, 1, 0, 0, 2, 1, 2, 1, 1, 2, 0, 2,\n",
       "       1, 2, 1, 0, 2, 1, 0, 0, 0, 2, 0, 1, 0, 2])"
      ]
     },
     "execution_count": 19,
     "metadata": {},
     "output_type": "execute_result"
    }
   ],
   "source": [
    "wine_Ytest#真实标签\n",
    "#两者仅在第九个位置处有所不同"
   ]
  },
  {
   "cell_type": "code",
   "execution_count": 20,
   "metadata": {},
   "outputs": [
    {
     "data": {
      "text/plain": [
       "0.9379681482232883"
      ]
     },
     "execution_count": 20,
     "metadata": {},
     "output_type": "execute_result"
    }
   ],
   "source": [
    "from sklearn.metrics import fowlkes_mallows_score\n",
    "score = fowlkes_mallows_score(kmeansLabel,wine_Ytest)#构建FMI评价\n",
    "score"
   ]
  },
  {
   "cell_type": "code",
   "execution_count": 21,
   "metadata": {},
   "outputs": [],
   "source": [
    "##############测试离差标准化和标准差标准化结果的差异################"
   ]
  },
  {
   "cell_type": "code",
   "execution_count": 22,
   "metadata": {},
   "outputs": [
    {
     "data": {
      "text/plain": [
       "0.9379681482232883"
      ]
     },
     "execution_count": 22,
     "metadata": {},
     "output_type": "execute_result"
    }
   ],
   "source": [
    "from sklearn.cluster import KMeans#导入模块\n",
    "kmeans = KMeans(n_clusters = 3,random_state=231).fit(wine_MM_train_Pca,wine_Ytrain)#将随机种子设置为231时，答案正确，但是score不正确\n",
    "kmeansLabel = kmeans.predict(wine_MM_test_Pca)\n",
    "from sklearn.metrics import fowlkes_mallows_score\n",
    "score = fowlkes_mallows_score(kmeansLabel,wine_Ytest)#构建FMI评价\n",
    "score"
   ]
  },
  {
   "cell_type": "markdown",
   "metadata": {},
   "source": [
    "wine数据集使用离差标准化和标准差标准化的结果的差异并没有多大"
   ]
  },
  {
   "cell_type": "markdown",
   "metadata": {},
   "source": [
    "3.在聚类数目为2-10类时，确认最优聚类数目"
   ]
  },
  {
   "cell_type": "code",
   "execution_count": 23,
   "metadata": {},
   "outputs": [
    {
     "name": "stdout",
     "output_type": "stream",
     "text": [
      "1 个聚类时的准确率 0.5662463427121809\n",
      "2 个聚类时的准确率 0.6143934235264181\n",
      "3 个聚类时的准确率 0.9379681482232883\n",
      "4 个聚类时的准确率 0.8181416897282133\n",
      "5 个聚类时的准确率 0.7488869628777877\n",
      "6 个聚类时的准确率 0.6788214189875552\n",
      "7 个聚类时的准确率 0.6409321497463897\n",
      "8 个聚类时的准确率 0.5834427727878205\n",
      "9 个聚类时的准确率 0.6486848843683047\n",
      "10 个聚类时的准确率 0.5716053474796459\n"
     ]
    }
   ],
   "source": [
    "for i in range(1,11):\n",
    "    kmeans = KMeans(n_clusters = i,random_state=231).fit(wine_std_train_Pca,wine_Ytrain)#将随机种子设置为231时，答案正确，但是score不正确\n",
    "    kmeansLabel = kmeans.predict(wine_std_test_Pca)\n",
    "    score = fowlkes_mallows_score(kmeansLabel,wine_Ytest)#构建FMI评价\n",
    "    print(i,'个聚类时的准确率',score)"
   ]
  },
  {
   "cell_type": "markdown",
   "metadata": {},
   "source": [
    "由上述数据可以看出，聚类为3时，准确率最高，模型最好。"
   ]
  },
  {
   "cell_type": "markdown",
   "metadata": {},
   "source": [
    "3.使用轮廓系数评价法评价K-Means聚类模型"
   ]
  },
  {
   "cell_type": "code",
   "execution_count": 32,
   "metadata": {
    "scrolled": true
   },
   "outputs": [
    {
     "data": {
      "image/png": "[encoded data removed]",
      "text/plain": [
       "<Figure size 720x432 with 1 Axes>"
      ]
     },
     "metadata": {},
     "output_type": "display_data"
    }
   ],
   "source": [
    "from sklearn.metrics import silhouette_score#导入函数\n",
    "import matplotlib.pyplot as plt#用于绘图\n",
    "%matplotlib inline\n",
    "silhouetteScore = []\n",
    "for i in range(2,11):\n",
    "    kmeans = KMeans(n_clusters=i,random_state=231).fit(wine_std_train_Pca,wine_Ytrain)#建立模型\n",
    "   # res = kmeans.predict(wine_MM_test_Pca)\n",
    "    score = silhouette_score(wine_std_train_Pca,kmeans.labels_)#得到轮廓系数\n",
    "    silhouetteScore.append(score)\n",
    "plt.figure(figsize=(10,6))\n",
    "plt.plot(range(2,11),silhouetteScore,linewidth = 1.5,linestyle=\"-\")#绘制折线图\n",
    "plt.show()"
   ]
  },
  {
   "cell_type": "markdown",
   "metadata": {},
   "source": [
    "由上图可以看出，聚类为3时，准确率最高，模型最好。"
   ]
  },
  {
   "cell_type": "markdown",
   "metadata": {},
   "source": [
    "4.求取Calinski-Harabasz指数，确定最优聚类数目"
   ]
  },
  {
   "cell_type": "code",
   "execution_count": 24,
   "metadata": {},
   "outputs": [
    {
     "name": "stdout",
     "output_type": "stream",
     "text": [
      "2 个聚类的calinski_harabaz系数 107.57285896019314\n",
      "3 个聚类的calinski_harabaz系数 138.17380453586605\n",
      "4 个聚类的calinski_harabaz系数 123.63707852096033\n",
      "5 个聚类的calinski_harabaz系数 113.72687206601685\n",
      "6 个聚类的calinski_harabaz系数 107.674456413425\n",
      "7 个聚类的calinski_harabaz系数 104.57324359364014\n",
      "8 个聚类的calinski_harabaz系数 99.75433316313772\n",
      "9 个聚类的calinski_harabaz系数 98.34198955395887\n",
      "10 个聚类的calinski_harabaz系数 94.70969751732333\n"
     ]
    }
   ],
   "source": [
    "from sklearn.metrics import calinski_harabaz_score#calinski_harabaz评价法\n",
    "for i in range(2,11):#评价聚类模型2-10\n",
    "     kmeans = KMeans(n_clusters=i,random_state=231).fit(wine_std_train_Pca,wine_Ytrain)#建立模型\n",
    "   \n",
    "     score = calinski_harabaz_score(wine_std_train_Pca,kmeans.labels_)#得到轮廓系数\n",
    "     print(i,'个聚类的calinski_harabaz系数',score)"
   ]
  },
  {
   "cell_type": "markdown",
   "metadata": {},
   "source": [
    "由上述数据可得，在聚类数目为3时，calinski_harabaz系数最大，聚类模型最优。"
   ]
  },
  {
   "cell_type": "markdown",
   "metadata": {},
   "source": [
    "# 构建基于wine数据集的SVM分类模型"
   ]
  },
  {
   "cell_type": "markdown",
   "metadata": {},
   "source": [
    "1.读取wine数据集，区分标签和数据<br>\n",
    "2.将wine数据集划分为训练集和测试集<br>\n",
    "3.使用离差标准化方法标准化wine数据集<br>\n",
    "均在前面的过程中进行了操作<br>\n",
    "得到的离差标准化的数据集为<br>\n",
    "训练集：X wine_MM_train_Pca Y wine_Ytrain<br>\n",
    "测试集：X wine_MM_test_Pca  Y wine_Ytest<br>"
   ]
  },
  {
   "cell_type": "markdown",
   "metadata": {},
   "source": [
    "4.构建SVM模型，并预测测试集结果"
   ]
  },
  {
   "cell_type": "code",
   "execution_count": 25,
   "metadata": {},
   "outputs": [],
   "source": [
    "from sklearn.svm import SVC#导入模块\n",
    "svm = SVC().fit(wine_MM_train_Pca,wine_Ytrain)#jia"
   ]
  },
  {
   "cell_type": "code",
   "execution_count": 26,
   "metadata": {},
   "outputs": [
    {
     "name": "stdout",
     "output_type": "stream",
     "text": [
      "预测结果\n"
     ]
    },
    {
     "data": {
      "text/plain": [
       "array([1, 0, 1, 2, 2, 0, 1, 1, 0, 0, 1, 1, 0, 0, 2, 1, 2, 1, 1, 2, 0, 2,\n",
       "       1, 2, 1, 0, 2, 1, 0, 0, 0, 2, 0, 1, 0, 2])"
      ]
     },
     "execution_count": 26,
     "metadata": {},
     "output_type": "execute_result"
    }
   ],
   "source": [
    "res = svm.predict(wine_MM_test_Pca)#预测结果\n",
    "print(\"预测结果\")\n",
    "res"
   ]
  },
  {
   "cell_type": "code",
   "execution_count": 27,
   "metadata": {},
   "outputs": [
    {
     "data": {
      "text/plain": [
       "array([1, 0, 1, 2, 2, 0, 1, 1, 1, 0, 1, 1, 0, 0, 2, 1, 2, 1, 1, 2, 0, 2,\n",
       "       1, 2, 1, 0, 2, 1, 0, 0, 0, 2, 0, 1, 0, 2])"
      ]
     },
     "execution_count": 27,
     "metadata": {},
     "output_type": "execute_result"
    }
   ],
   "source": [
    "wine_Ytest"
   ]
  },
  {
   "cell_type": "markdown",
   "metadata": {},
   "source": [
    "5.打印出分类报告，评价分类模型性能"
   ]
  },
  {
   "cell_type": "code",
   "execution_count": 24,
   "metadata": {},
   "outputs": [
    {
     "name": "stdout",
     "output_type": "stream",
     "text": [
      "使用SVM预测wine数据的准确率 0.9722222222222222\n",
      "使用SVM预测wine数据的精确率 [1.         0.92857143 1.        ]\n",
      "使用SVM预测wine数据的召回率 [0.92307692 1.         1.        ]\n",
      "使用SVM预测wine数据的F1值 [0.96       0.96296296 1.        ]\n",
      "使用SVM预测wine数据的ck系数 0.958041958041958\n"
     ]
    }
   ],
   "source": [
    "from sklearn.metrics import accuracy_score,precision_score,recall_score,f1_score,cohen_kappa_score\n",
    "print(\"使用SVM预测wine数据的准确率\",accuracy_score(res,wine_Ytest))\n",
    "print(\"使用SVM预测wine数据的精确率\",precision_score(res,wine_Ytest,average=None))\n",
    "print(\"使用SVM预测wine数据的召回率\",recall_score(res,wine_Ytest,average=None))\n",
    "print(\"使用SVM预测wine数据的F1值\",f1_score(res,wine_Ytest,average=None))\n",
    "print(\"使用SVM预测wine数据的ck系数\",cohen_kappa_score(res,wine_Ytest))\n",
    "#二分类"
   ]
  },
  {
   "cell_type": "markdown",
   "metadata": {},
   "source": [
    "6.使用其他的模型进行预测（LAD,逻辑回归）"
   ]
  },
  {
   "cell_type": "code",
   "execution_count": 28,
   "metadata": {},
   "outputs": [
    {
     "name": "stdout",
     "output_type": "stream",
     "text": [
      "LDA结果 [1 0 1 2 2 0 1 1 1 0 1 2 0 0 2 1 2 1 1 2 0 2 1 2 1 0 2 1 0 0 0 2 0 1 0 2]\n",
      "正确结果 [1 0 1 2 2 0 1 1 1 0 1 1 0 0 2 1 2 1 1 2 0 2 1 2 1 0 2 1 0 0 0 2 0 1 0 2]\n",
      "准确率 0.9722222222222222\n"
     ]
    }
   ],
   "source": [
    "#LDA\n",
    "from sklearn.discriminant_analysis import LinearDiscriminantAnalysis as LDA\n",
    "lda = LDA(n_components=2)\n",
    "\n",
    "\n",
    "X_r = lda.fit(wine_Xtrain,wine_Ytrain)\n",
    "\n",
    "print('LDA结果',X_r.predict(wine_Xtest))\n",
    "\n",
    "print('正确结果',wine_Ytest)\n",
    "\n",
    "print('准确率',X_r.score(wine_Xtest,wine_Ytest))"
   ]
  },
  {
   "cell_type": "code",
   "execution_count": 29,
   "metadata": {},
   "outputs": [
    {
     "name": "stdout",
     "output_type": "stream",
     "text": [
      "Training accuracy: 0.971830985915493\n",
      "Test accuracy: 0.9444444444444444\n"
     ]
    }
   ],
   "source": [
    "#逻辑回归\n",
    "from sklearn.linear_model import LogisticRegression\n",
    "lr = LogisticRegression(penalty='l1', C=0.1)\n",
    "lr.fit(wine_std_train_Pca, wine_Ytrain)\n",
    "print('Training accuracy:', lr.score(wine_std_train_Pca, wine_Ytrain))\n",
    "print('Test accuracy:', lr.score(wine_std_test_Pca, wine_Ytest))\n"
   ]
  },
  {
   "cell_type": "markdown",
   "metadata": {},
   "source": [
    "# 实训4构建基于wine_quality数据集的回归模型"
   ]
  },
  {
   "cell_type": "markdown",
   "metadata": {},
   "source": [
    "1.根据wine_quality数据集处理的结果，构建线性回归模型"
   ]
  },
  {
   "cell_type": "code",
   "execution_count": 27,
   "metadata": {},
   "outputs": [],
   "source": [
    "from sklearn.linear_model import LinearRegression#导入模块\n",
    "clf = LinearRegression().fit(q_std_train_Pca,quality_Ytrain)\n",
    "clf_pred = clf.predict(q_std_test_Pca)"
   ]
  },
  {
   "cell_type": "code",
   "execution_count": 32,
   "metadata": {},
   "outputs": [
    {
     "name": "stdout",
     "output_type": "stream",
     "text": [
      "wine_quality数据线性回归模型的 平均绝对误差  0.5468181916388624\n",
      "wine_quality数据线性回归模型的 均方误差  0.4621057010649975\n",
      "wine_quality数据线性回归模型的 中值绝对误差  0.4645889149557836\n",
      "wine_quality数据线性回归模型的 可解释方差  0.2839591215480297\n",
      "wine_quality数据线性回归模型的 r方值  0.2838606485099623\n"
     ]
    }
   ],
   "source": [
    "from sklearn.metrics import mean_absolute_error,mean_squared_error,median_absolute_error,explained_variance_score,r2_score\n",
    "print('wine_quality数据线性回归模型的 平均绝对误差 ',mean_absolute_error(quality_Ytest,clf_pred))\n",
    "print('wine_quality数据线性回归模型的 均方误差 ',mean_squared_error(quality_Ytest,clf_pred))\n",
    "print('wine_quality数据线性回归模型的 中值绝对误差 ',median_absolute_error(quality_Ytest,clf_pred))\n",
    "print('wine_quality数据线性回归模型的 可解释方差 ',explained_variance_score(quality_Ytest,clf_pred))\n",
    "print('wine_quality数据线性回归模型的 r方值 ',r2_score(quality_Ytest,clf_pred))"
   ]
  },
  {
   "cell_type": "code",
   "execution_count": 36,
   "metadata": {},
   "outputs": [],
   "source": [
    "from sklearn.ensemble import  GradientBoostingRegressor\n",
    "GBR_q = GradientBoostingRegressor().fit(q_std_train_Pca,quality_Ytrain)"
   ]
  },
  {
   "cell_type": "code",
   "execution_count": 37,
   "metadata": {},
   "outputs": [],
   "source": [
    "GBR_q_pred = GBR_q.predict(q_std_test_Pca)"
   ]
  },
  {
   "cell_type": "code",
   "execution_count": 38,
   "metadata": {},
   "outputs": [
    {
     "name": "stdout",
     "output_type": "stream",
     "text": [
      "wine_quality数据梯度提升回归模型的 平均绝对误差  0.5275390144874421\n",
      "wine_quality数据梯度提升回归模型的 均方误差  0.43235329786141874\n",
      "wine_quality数据梯度提升回归模型的 中值绝对误差  0.4248574955100577\n",
      "wine_quality数据梯度提升回归模型的 可解释方差  0.32997726577662956\n",
      "wine_quality数据梯度提升回归模型的 r方值  0.32996885857180724\n"
     ]
    }
   ],
   "source": [
    "print('wine_quality数据梯度提升回归模型的 平均绝对误差 ',mean_absolute_error(quality_Ytest,GBR_q_pred))\n",
    "print('wine_quality数据梯度提升回归模型的 均方误差 ',mean_squared_error(quality_Ytest,GBR_q_pred))\n",
    "print('wine_quality数据梯度提升回归模型的 中值绝对误差 ',median_absolute_error(quality_Ytest,GBR_q_pred))\n",
    "print('wine_quality数据梯度提升回归模型的 可解释方差 ',explained_variance_score(quality_Ytest,GBR_q_pred))\n",
    "print('wine_quality数据梯度提升回归模型的 r方值 ',r2_score(quality_Ytest,GBR_q_pred))"
   ]
  },
  {
   "cell_type": "markdown",
   "metadata": {},
   "source": [
    "由上述数据可知，wine_quality数据梯度提升回归模型性能更好"
   ]
  }
 ],
 "metadata": {
  "kernelspec": {
   "display_name": "Python 3",
   "language": "python",
   "name": "python3"
  },
  "language_info": {
   "codemirror_mode": {
    "name": "ipython",
    "version": 3
   },
   "file_extension": ".py",
   "mimetype": "text/x-python",
   "name": "python",
   "nbconvert_exporter": "python",
   "pygments_lexer": "ipython3",
   "version": "3.6.5"
  }
 },
 "nbformat": 4,
 "nbformat_minor": 2
}
